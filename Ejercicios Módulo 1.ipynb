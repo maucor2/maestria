{
 "cells": [
  {
   "cell_type": "markdown",
   "id": "46cd6d65-447e-42c0-ace1-1883c980f0f4",
   "metadata": {},
   "source": [
    "#Basic mode"
   ]
  },
  {
   "cell_type": "markdown",
   "id": "669c53d7-60b9-45d0-82b8-47069c9f74c9",
   "metadata": {},
   "source": [
    "(1 punto) Imprime “Hello world” 73 veces"
   ]
  },
  {
   "cell_type": "code",
   "execution_count": 2,
   "id": "d2ec3f96-5a9b-4577-a3ec-834dcca3b90d",
   "metadata": {
    "tags": []
   },
   "outputs": [
    {
     "name": "stdout",
     "output_type": "stream",
     "text": [
      "1 - hello world\n",
      "2 - hello world\n",
      "3 - hello world\n",
      "4 - hello world\n",
      "5 - hello world\n",
      "6 - hello world\n",
      "7 - hello world\n",
      "8 - hello world\n",
      "9 - hello world\n",
      "10 - hello world\n",
      "11 - hello world\n",
      "12 - hello world\n",
      "13 - hello world\n",
      "14 - hello world\n",
      "15 - hello world\n",
      "16 - hello world\n",
      "17 - hello world\n",
      "18 - hello world\n",
      "19 - hello world\n",
      "20 - hello world\n",
      "21 - hello world\n",
      "22 - hello world\n",
      "23 - hello world\n",
      "24 - hello world\n",
      "25 - hello world\n",
      "26 - hello world\n",
      "27 - hello world\n",
      "28 - hello world\n",
      "29 - hello world\n",
      "30 - hello world\n",
      "31 - hello world\n",
      "32 - hello world\n",
      "33 - hello world\n",
      "34 - hello world\n",
      "35 - hello world\n",
      "36 - hello world\n",
      "37 - hello world\n",
      "38 - hello world\n",
      "39 - hello world\n",
      "40 - hello world\n",
      "41 - hello world\n",
      "42 - hello world\n",
      "43 - hello world\n",
      "44 - hello world\n",
      "45 - hello world\n",
      "46 - hello world\n",
      "47 - hello world\n",
      "48 - hello world\n",
      "49 - hello world\n",
      "50 - hello world\n",
      "51 - hello world\n",
      "52 - hello world\n",
      "53 - hello world\n",
      "54 - hello world\n",
      "55 - hello world\n",
      "56 - hello world\n",
      "57 - hello world\n",
      "58 - hello world\n",
      "59 - hello world\n",
      "60 - hello world\n",
      "61 - hello world\n",
      "62 - hello world\n",
      "63 - hello world\n",
      "64 - hello world\n",
      "65 - hello world\n",
      "66 - hello world\n",
      "67 - hello world\n",
      "68 - hello world\n",
      "69 - hello world\n",
      "70 - hello world\n",
      "71 - hello world\n",
      "72 - hello world\n",
      "73 - hello world\n"
     ]
    }
   ],
   "source": [
    "for i in range (1,74):\n",
    "    print (f'{i} - hello world')"
   ]
  },
  {
   "cell_type": "markdown",
   "id": "573e5b5e-0056-4db8-8d26-afb112c5cc1e",
   "metadata": {},
   "source": [
    " (1 punto) Crea un programa en python que devuelva el valor del septuagésimo tercer (73º) \n",
    "número de la serie de Fibonacci."
   ]
  },
  {
   "cell_type": "code",
   "execution_count": 6,
   "id": "30c2d3c6-d71f-4440-81cc-1f7894f6b58a",
   "metadata": {
    "tags": []
   },
   "outputs": [
    {
     "name": "stdout",
     "output_type": "stream",
     "text": [
      "73 1304969544928657\n"
     ]
    }
   ],
   "source": [
    "conteo = 0\n",
    "\n",
    "i = 0\n",
    "fibo = 0\n",
    "nacchi = 1\n",
    "while i < 73:\n",
    "    nacchi += fibo #nacchi += fibo + nacchi esto es lo mismo\n",
    "    fibo = nacchi-fibo\n",
    "    i += 1\n",
    "print( i,nacchi)"
   ]
  },
  {
   "cell_type": "markdown",
   "id": "2ad3a95e-a5e2-452d-8b0d-74b375bd425b",
   "metadata": {},
   "source": [
    "(3 puntos) Crea un data frame en pandas con 201 filas y las siguientes columnas: "
   ]
  },
  {
   "cell_type": "code",
   "execution_count": null,
   "id": "ef655e3f-8377-415c-8451-f57f55409acf",
   "metadata": {},
   "outputs": [],
   "source": [
    "import pandas as pd\n",
    "import numpy as np"
   ]
  },
  {
   "cell_type": "markdown",
   "id": "cf5043ee-4f69-4051-97b4-6df1b574b151",
   "metadata": {},
   "source": [
    "a. Una a la que denominaremos t, con los números entre 0 y 4 separados por \n",
    "intervalos de 0.02. Es decir: 0, 0.02, 0.04, …, 4"
   ]
  },
  {
   "cell_type": "markdown",
   "id": "a6711a69-46b9-41b8-8a8c-9d4d0b94c8bd",
   "metadata": {},
   "source": [
    "b. Otra con el seno de t a la que llamaremos s."
   ]
  },
  {
   "cell_type": "code",
   "execution_count": 16,
   "id": "06a8c35b-021e-460e-9c95-f5b7046cab08",
   "metadata": {
    "tags": []
   },
   "outputs": [],
   "source": [
    "separacion = 0.02\n",
    "\n",
    "contador = 0\n",
    "columna = [[],[],[]]\n",
    "\n",
    "\n",
    "while contador <4:\n",
    "    columna[0].append(contador)\n",
    "    columna[1].append(np.sin(contador))\n",
    "    contador = round(contador+separacion,2)\n"
   ]
  },
  {
   "cell_type": "markdown",
   "id": "0f72e689-8098-4236-94a6-b7341446a5bc",
   "metadata": {},
   "source": [
    "c. Otra con el seno el valor que tiene el seno de t 10 registros posteriores al que \n",
    "llamaremos s10. Sugerencia: El método shift de un data frame de pandas permite \n",
    "crear columnas a partir del desplazamiento de la posición de otras."
   ]
  },
  {
   "cell_type": "code",
   "execution_count": 33,
   "id": "dfc9fff3-777d-4ef2-864c-b784c4d3df9a",
   "metadata": {
    "tags": []
   },
   "outputs": [],
   "source": [
    "df = pd.DataFrame(data = {'t':col[0], 's':col[1]})\n",
    "df['s10'] = np.sin(df['s'])\n",
    "df['s10'] = df['s10'].shift(periods=10)\n"
   ]
  },
  {
   "cell_type": "markdown",
   "id": "48a23599-303a-4102-905e-06d5bbce871b",
   "metadata": {},
   "source": [
    "d. Otra columna a la que llamaremos d que será la diferencia entre las dos anteriores."
   ]
  },
  {
   "cell_type": "code",
   "execution_count": 41,
   "id": "2e393a8b-fc59-42da-b6c4-c89fac6651ac",
   "metadata": {
    "tags": []
   },
   "outputs": [
    {
     "data": {
      "text/html": [
       "<div>\n",
       "<style scoped>\n",
       "    .dataframe tbody tr th:only-of-type {\n",
       "        vertical-align: middle;\n",
       "    }\n",
       "\n",
       "    .dataframe tbody tr th {\n",
       "        vertical-align: top;\n",
       "    }\n",
       "\n",
       "    .dataframe thead th {\n",
       "        text-align: right;\n",
       "    }\n",
       "</style>\n",
       "<table border=\"1\" class=\"dataframe\">\n",
       "  <thead>\n",
       "    <tr style=\"text-align: right;\">\n",
       "      <th></th>\n",
       "      <th>t</th>\n",
       "      <th>s</th>\n",
       "      <th>s10</th>\n",
       "      <th>d</th>\n",
       "    </tr>\n",
       "  </thead>\n",
       "  <tbody>\n",
       "    <tr>\n",
       "      <th>0</th>\n",
       "      <td>0.00</td>\n",
       "      <td>0.000000</td>\n",
       "      <td>NaN</td>\n",
       "      <td>NaN</td>\n",
       "    </tr>\n",
       "    <tr>\n",
       "      <th>1</th>\n",
       "      <td>0.02</td>\n",
       "      <td>0.019999</td>\n",
       "      <td>NaN</td>\n",
       "      <td>NaN</td>\n",
       "    </tr>\n",
       "    <tr>\n",
       "      <th>2</th>\n",
       "      <td>0.04</td>\n",
       "      <td>0.039989</td>\n",
       "      <td>NaN</td>\n",
       "      <td>NaN</td>\n",
       "    </tr>\n",
       "    <tr>\n",
       "      <th>3</th>\n",
       "      <td>0.06</td>\n",
       "      <td>0.059964</td>\n",
       "      <td>NaN</td>\n",
       "      <td>NaN</td>\n",
       "    </tr>\n",
       "    <tr>\n",
       "      <th>4</th>\n",
       "      <td>0.08</td>\n",
       "      <td>0.079915</td>\n",
       "      <td>NaN</td>\n",
       "      <td>NaN</td>\n",
       "    </tr>\n",
       "    <tr>\n",
       "      <th>...</th>\n",
       "      <td>...</td>\n",
       "      <td>...</td>\n",
       "      <td>...</td>\n",
       "      <td>...</td>\n",
       "    </tr>\n",
       "    <tr>\n",
       "      <th>195</th>\n",
       "      <td>3.90</td>\n",
       "      <td>-0.687766</td>\n",
       "      <td>-0.505392</td>\n",
       "      <td>-0.182374</td>\n",
       "    </tr>\n",
       "    <tr>\n",
       "      <th>196</th>\n",
       "      <td>3.92</td>\n",
       "      <td>-0.702146</td>\n",
       "      <td>-0.519863</td>\n",
       "      <td>-0.182283</td>\n",
       "    </tr>\n",
       "    <tr>\n",
       "      <th>197</th>\n",
       "      <td>3.94</td>\n",
       "      <td>-0.716246</td>\n",
       "      <td>-0.534002</td>\n",
       "      <td>-0.182243</td>\n",
       "    </tr>\n",
       "    <tr>\n",
       "      <th>198</th>\n",
       "      <td>3.96</td>\n",
       "      <td>-0.730058</td>\n",
       "      <td>-0.547805</td>\n",
       "      <td>-0.182253</td>\n",
       "    </tr>\n",
       "    <tr>\n",
       "      <th>199</th>\n",
       "      <td>3.98</td>\n",
       "      <td>-0.743579</td>\n",
       "      <td>-0.561268</td>\n",
       "      <td>-0.182311</td>\n",
       "    </tr>\n",
       "  </tbody>\n",
       "</table>\n",
       "<p>200 rows × 4 columns</p>\n",
       "</div>"
      ],
      "text/plain": [
       "        t         s       s10         d\n",
       "0    0.00  0.000000       NaN       NaN\n",
       "1    0.02  0.019999       NaN       NaN\n",
       "2    0.04  0.039989       NaN       NaN\n",
       "3    0.06  0.059964       NaN       NaN\n",
       "4    0.08  0.079915       NaN       NaN\n",
       "..    ...       ...       ...       ...\n",
       "195  3.90 -0.687766 -0.505392 -0.182374\n",
       "196  3.92 -0.702146 -0.519863 -0.182283\n",
       "197  3.94 -0.716246 -0.534002 -0.182243\n",
       "198  3.96 -0.730058 -0.547805 -0.182253\n",
       "199  3.98 -0.743579 -0.561268 -0.182311\n",
       "\n",
       "[200 rows x 4 columns]"
      ]
     },
     "execution_count": 41,
     "metadata": {},
     "output_type": "execute_result"
    }
   ],
   "source": [
    "df['d'] = df['s']-df['s10']\n",
    "df"
   ]
  },
  {
   "cell_type": "markdown",
   "id": "96cb3242-ce5a-4ae2-ba89-7eb5c61c45cd",
   "metadata": {},
   "source": [
    "e. Otra columna a la que llamaremos p. Esta columna será igual a 1 si el registro de la \n",
    "columna d es positivo y 0 si es negativo"
   ]
  },
  {
   "cell_type": "code",
   "execution_count": 45,
   "id": "c3d9e6e2-8343-4198-a5c7-b704961df850",
   "metadata": {
    "tags": []
   },
   "outputs": [
    {
     "data": {
      "text/html": [
       "<div>\n",
       "<style scoped>\n",
       "    .dataframe tbody tr th:only-of-type {\n",
       "        vertical-align: middle;\n",
       "    }\n",
       "\n",
       "    .dataframe tbody tr th {\n",
       "        vertical-align: top;\n",
       "    }\n",
       "\n",
       "    .dataframe thead th {\n",
       "        text-align: right;\n",
       "    }\n",
       "</style>\n",
       "<table border=\"1\" class=\"dataframe\">\n",
       "  <thead>\n",
       "    <tr style=\"text-align: right;\">\n",
       "      <th></th>\n",
       "      <th>t</th>\n",
       "      <th>s</th>\n",
       "      <th>s10</th>\n",
       "      <th>d</th>\n",
       "      <th>p</th>\n",
       "    </tr>\n",
       "  </thead>\n",
       "  <tbody>\n",
       "    <tr>\n",
       "      <th>0</th>\n",
       "      <td>0.00</td>\n",
       "      <td>0.000000</td>\n",
       "      <td>NaN</td>\n",
       "      <td>NaN</td>\n",
       "      <td>NaN</td>\n",
       "    </tr>\n",
       "    <tr>\n",
       "      <th>1</th>\n",
       "      <td>0.02</td>\n",
       "      <td>0.019999</td>\n",
       "      <td>NaN</td>\n",
       "      <td>NaN</td>\n",
       "      <td>NaN</td>\n",
       "    </tr>\n",
       "    <tr>\n",
       "      <th>2</th>\n",
       "      <td>0.04</td>\n",
       "      <td>0.039989</td>\n",
       "      <td>NaN</td>\n",
       "      <td>NaN</td>\n",
       "      <td>NaN</td>\n",
       "    </tr>\n",
       "    <tr>\n",
       "      <th>3</th>\n",
       "      <td>0.06</td>\n",
       "      <td>0.059964</td>\n",
       "      <td>NaN</td>\n",
       "      <td>NaN</td>\n",
       "      <td>NaN</td>\n",
       "    </tr>\n",
       "    <tr>\n",
       "      <th>4</th>\n",
       "      <td>0.08</td>\n",
       "      <td>0.079915</td>\n",
       "      <td>NaN</td>\n",
       "      <td>NaN</td>\n",
       "      <td>NaN</td>\n",
       "    </tr>\n",
       "    <tr>\n",
       "      <th>...</th>\n",
       "      <td>...</td>\n",
       "      <td>...</td>\n",
       "      <td>...</td>\n",
       "      <td>...</td>\n",
       "      <td>...</td>\n",
       "    </tr>\n",
       "    <tr>\n",
       "      <th>195</th>\n",
       "      <td>3.90</td>\n",
       "      <td>-0.687766</td>\n",
       "      <td>-0.505392</td>\n",
       "      <td>-0.182374</td>\n",
       "      <td>0.0</td>\n",
       "    </tr>\n",
       "    <tr>\n",
       "      <th>196</th>\n",
       "      <td>3.92</td>\n",
       "      <td>-0.702146</td>\n",
       "      <td>-0.519863</td>\n",
       "      <td>-0.182283</td>\n",
       "      <td>0.0</td>\n",
       "    </tr>\n",
       "    <tr>\n",
       "      <th>197</th>\n",
       "      <td>3.94</td>\n",
       "      <td>-0.716246</td>\n",
       "      <td>-0.534002</td>\n",
       "      <td>-0.182243</td>\n",
       "      <td>0.0</td>\n",
       "    </tr>\n",
       "    <tr>\n",
       "      <th>198</th>\n",
       "      <td>3.96</td>\n",
       "      <td>-0.730058</td>\n",
       "      <td>-0.547805</td>\n",
       "      <td>-0.182253</td>\n",
       "      <td>0.0</td>\n",
       "    </tr>\n",
       "    <tr>\n",
       "      <th>199</th>\n",
       "      <td>3.98</td>\n",
       "      <td>-0.743579</td>\n",
       "      <td>-0.561268</td>\n",
       "      <td>-0.182311</td>\n",
       "      <td>0.0</td>\n",
       "    </tr>\n",
       "  </tbody>\n",
       "</table>\n",
       "<p>200 rows × 5 columns</p>\n",
       "</div>"
      ],
      "text/plain": [
       "        t         s       s10         d    p\n",
       "0    0.00  0.000000       NaN       NaN  NaN\n",
       "1    0.02  0.019999       NaN       NaN  NaN\n",
       "2    0.04  0.039989       NaN       NaN  NaN\n",
       "3    0.06  0.059964       NaN       NaN  NaN\n",
       "4    0.08  0.079915       NaN       NaN  NaN\n",
       "..    ...       ...       ...       ...  ...\n",
       "195  3.90 -0.687766 -0.505392 -0.182374  0.0\n",
       "196  3.92 -0.702146 -0.519863 -0.182283  0.0\n",
       "197  3.94 -0.716246 -0.534002 -0.182243  0.0\n",
       "198  3.96 -0.730058 -0.547805 -0.182253  0.0\n",
       "199  3.98 -0.743579 -0.561268 -0.182311  0.0\n",
       "\n",
       "[200 rows x 5 columns]"
      ]
     },
     "execution_count": 45,
     "metadata": {},
     "output_type": "execute_result"
    }
   ],
   "source": [
    "df.loc[df['d'] >0, 'p'] = 1\n",
    "df.loc[df['d'] <0, 'p'] = 0\n",
    "df"
   ]
  },
  {
   "cell_type": "markdown",
   "id": "50f48692-b5f1-4bbf-9301-6da0a095dcf9",
   "metadata": {},
   "source": [
    "f. Guarda el resultado en un archivo “.csv” separado por “;”."
   ]
  },
  {
   "cell_type": "code",
   "execution_count": 54,
   "id": "46d7756d-7234-47da-a4f2-ef7894a9a030",
   "metadata": {
    "tags": []
   },
   "outputs": [],
   "source": [
    "df.to_csv(\"out2.csv\",  sep=';')"
   ]
  },
  {
   "cell_type": "markdown",
   "id": "c8e564ae-4835-412f-bdb5-29c240702d32",
   "metadata": {},
   "source": [
    "(2 puntos) Carga el archivo creado en un nuevo programa"
   ]
  },
  {
   "cell_type": "code",
   "execution_count": 58,
   "id": "5e357ad0-ba91-4a3a-96a4-1f969f026119",
   "metadata": {
    "tags": []
   },
   "outputs": [],
   "source": [
    "ndf = pd.read_csv('out.csv', sep=';')"
   ]
  },
  {
   "cell_type": "markdown",
   "id": "7f387d37-c3c6-42f7-92d1-422630f664ca",
   "metadata": {},
   "source": [
    "La última columna m será la media de los valores positivos si p es 1 y la media de los \n",
    "valores negativos si p es 0. Sugerencia: los métodos groupby y transform pueden \n",
    "encadenarse. Documentación método transform"
   ]
  },
  {
   "cell_type": "code",
   "execution_count": null,
   "id": "7a9c3fe1-a707-4b4f-a64c-ad46258b02c1",
   "metadata": {},
   "outputs": [],
   "source": []
  },
  {
   "cell_type": "markdown",
   "id": "6bcc8715-f484-4351-a972-e76828606b11",
   "metadata": {},
   "source": [
    "Crea finalmente un data frame de solo dos filas con el sumatorio de los valores \n",
    "negativos de la columna d y el sumatorio de los valores positivos de la columna d. \n",
    "Sugerencia: El método groupby será suficiente."
   ]
  },
  {
   "cell_type": "code",
   "execution_count": null,
   "id": "ad67c605-ec09-49d1-b277-6fff96364571",
   "metadata": {},
   "outputs": [],
   "source": []
  },
  {
   "cell_type": "markdown",
   "id": "5f8b1683-bd04-4f35-b845-903d58d7b6ce",
   "metadata": {},
   "source": [
    "(1 punto) Para practicar con la depuración del código: Repara el programa subido al aula \n",
    "virtual. exercice_debug_1.py"
   ]
  },
  {
   "cell_type": "code",
   "execution_count": 59,
   "id": "18558a43-3cfe-4c7e-a5a0-4fcbdd7df192",
   "metadata": {
    "tags": []
   },
   "outputs": [
    {
     "name": "stdout",
     "output_type": "stream",
     "text": [
      "STEP 1\n",
      "x should be 10:10\n",
      "SUCCESS! IN STEP 1\n",
      "STEP 2\n",
      "x should be True:True\n",
      "i should be 5:5\n",
      "SUCCESS! IN STEP 2\n"
     ]
    }
   ],
   "source": [
    "#MODIFY EACH STEP IN ORDER TO RUN COMPLETLY THE PROGRAM\n",
    "print('STEP 1')\n",
    "\n",
    "for i in range(0,11):\n",
    "    x = i\n",
    "\n",
    "print(f'x should be 10:{x}')\n",
    "if x == 10:\n",
    "    print('SUCCESS! IN STEP 1')\n",
    "print('STEP 2')\n",
    "x = False\n",
    "\n",
    "for i in range(0,11):\n",
    "    x = x or True\n",
    "    if x and  i == 5:\n",
    "        break \n",
    "    \n",
    "\n",
    "print(f'x should be True:{x}')\n",
    "print(f'i should be 5:{i}')\n",
    "if i == 5 and x:\n",
    "    print('SUCCESS! IN STEP 2')\n"
   ]
  },
  {
   "cell_type": "markdown",
   "id": "6e215187-c2d0-4e64-8f67-04ce51a185c9",
   "metadata": {},
   "source": [
    "6. (1 punto) Calcula el septuagésimo tercer (73º) número primo."
   ]
  },
  {
   "cell_type": "code",
   "execution_count": 65,
   "id": "470608e1-c3b9-4821-80af-df5873ab3f2f",
   "metadata": {
    "tags": []
   },
   "outputs": [
    {
     "name": "stdout",
     "output_type": "stream",
     "text": [
      "[73, 367]\n"
     ]
    }
   ],
   "source": [
    "##Definir un numero primo\n",
    "def es_primo(n):\n",
    "    # Comprobamos si n es 2 (unico primo par)\n",
    "    if n == 2:\n",
    "        return True\n",
    "\n",
    "    # Comprobamos si es menor de 2 o es par\n",
    "    if n < 2 or not n % 2:\n",
    "        return False\n",
    "\n",
    "    # Comprobamos si es divisible entre cualquier entero impar entre 3 y sqrt(n)\n",
    "    return not any(n % i == 0 for i in range(3, int(n**0.5) + 1, 2))\n",
    "\n",
    "\n",
    "\n",
    "## variable globales        \n",
    "    \n",
    "list_primos =[]\n",
    "\n",
    "\n",
    "# esta funcion revisa si en el orden de la lista la multiplicacion entre los digitos es igual a la posicion de la lista\n",
    "def lista_primo (num):\n",
    "    pos_lista_primo = 0 #variable de conteo\n",
    "    primo = 1 #valor evaluado\n",
    "\n",
    "    \n",
    "    while pos_lista_primo < num:\n",
    "        primo +=1\n",
    "        if es_primo(primo):\n",
    "            pos_lista_primo +=1\n",
    "            list_primos.append([pos_lista_primo, primo])\n",
    "\n",
    "lista_primo (73)\n",
    "print(list_primos[72])"
   ]
  },
  {
   "cell_type": "markdown",
   "id": "3f070358-421a-42f2-a48e-52460b8f8702",
   "metadata": {},
   "source": [
    "(1 punto) Sube a un repositorio de git hub un programa que encuentre un intervalo que \n",
    "tenga 73 números no primos seguidos y compártelo a través de su link en Git Hub."
   ]
  },
  {
   "cell_type": "code",
   "execution_count": 70,
   "id": "9ee6fd3b-c6c5-4244-a472-5afe133c9f18",
   "metadata": {
    "tags": []
   },
   "outputs": [
    {
     "name": "stdout",
     "output_type": "stream",
     "text": [
      "1 4\n",
      "2 6\n",
      "3 8\n",
      "4 9\n",
      "5 10\n",
      "6 12\n",
      "7 14\n",
      "8 15\n",
      "9 16\n",
      "10 18\n",
      "11 20\n",
      "12 21\n",
      "13 22\n",
      "14 24\n",
      "15 25\n",
      "16 26\n",
      "17 27\n",
      "18 28\n",
      "19 30\n",
      "20 32\n",
      "21 33\n",
      "22 34\n",
      "23 35\n",
      "24 36\n",
      "25 38\n",
      "26 39\n",
      "27 40\n",
      "28 42\n",
      "29 44\n",
      "30 45\n",
      "31 46\n",
      "32 48\n",
      "33 49\n",
      "34 50\n",
      "35 51\n",
      "36 52\n",
      "37 54\n",
      "38 55\n",
      "39 56\n",
      "40 57\n",
      "41 58\n",
      "42 60\n",
      "43 62\n",
      "44 63\n",
      "45 64\n",
      "46 65\n",
      "47 66\n",
      "48 68\n",
      "49 69\n",
      "50 70\n",
      "51 72\n",
      "52 74\n",
      "53 75\n",
      "54 76\n",
      "55 77\n",
      "56 78\n",
      "57 80\n",
      "58 81\n",
      "59 82\n",
      "60 84\n",
      "61 85\n",
      "62 86\n",
      "63 87\n",
      "64 88\n",
      "65 90\n",
      "66 91\n",
      "67 92\n",
      "68 93\n",
      "69 94\n",
      "70 95\n",
      "71 96\n",
      "72 98\n",
      "73 99\n",
      "[]\n"
     ]
    }
   ],
   "source": [
    "##Definir un numero primo\n",
    "def es_primo(n):\n",
    "    # Comprobamos si n es 2 (unico primo par)\n",
    "    if n == 2:\n",
    "        return True\n",
    "\n",
    "    # Comprobamos si es menor de 2 o es par\n",
    "    if n < 2 or not n % 2:\n",
    "        return False\n",
    "\n",
    "    # Comprobamos si es divisible entre cualquier entero impar entre 3 y sqrt(n)\n",
    "    return not any(n % i == 0 for i in range(3, int(n**0.5) + 1, 2))\n",
    "\n",
    "\n",
    "\n",
    "## variable globales        \n",
    "    \n",
    "list_primos =[]\n",
    "\n",
    "\n",
    "# esta funcion revisa si en el orden de la lista la multiplicacion entre los digitos es igual a la posicion de la lista\n",
    "def lista_primo (num):\n",
    "    pos_lista = 0 #variable de conteo\n",
    "    numero = 1 #valor evaluado\n",
    "\n",
    "    \n",
    "    while pos_lista < num:\n",
    "        numero +=1\n",
    "        if es_primo(numero)!= True:\n",
    "            pos_lista +=1\n",
    "            print(pos_lista, numero)\n",
    "\n",
    "lista_primo (73)\n",
    "print(list_primos)"
   ]
  }
 ],
 "metadata": {
  "kernelspec": {
   "display_name": "Python 3 (ipykernel)",
   "language": "python",
   "name": "python3"
  },
  "language_info": {
   "codemirror_mode": {
    "name": "ipython",
    "version": 3
   },
   "file_extension": ".py",
   "mimetype": "text/x-python",
   "name": "python",
   "nbconvert_exporter": "python",
   "pygments_lexer": "ipython3",
   "version": "3.11.4"
  }
 },
 "nbformat": 4,
 "nbformat_minor": 5
}
